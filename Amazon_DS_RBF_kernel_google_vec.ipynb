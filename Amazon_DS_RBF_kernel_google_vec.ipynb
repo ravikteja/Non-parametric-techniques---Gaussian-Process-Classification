{
 "cells": [
  {
   "cell_type": "code",
   "execution_count": 18,
   "metadata": {},
   "outputs": [],
   "source": [
    "#import GPy\n",
    "import time\n",
    "import numpy as np\n",
    "import matplotlib.pyplot as plt\n",
    "import numpy as np\n",
    "import pandas as pd\n",
    "\n",
    "import matplotlib.pyplot as plt\n",
    "import matplotlib.cm as cm\n",
    "import seaborn as sns\n",
    "import numpy as np\n",
    "import pandas as pd\n",
    "import matplotlib.pyplot as plt\n",
    "from sklearn.ensemble import RandomForestClassifier\n",
    "from sklearn.datasets import make_classification\n",
    "#from xgboost import plot_importance\n",
    "from numpy import loadtxt\n",
    "#from xgboost import XGBClassifier\n",
    "from sklearn.model_selection import train_test_split\n",
    "from sklearn.metrics import accuracy_score\n",
    "from sklearn.metrics import f1_score\n",
    "from sklearn.metrics import precision_score\n",
    "import pickle\n",
    "from tqdm import tqdm\n",
    "from sklearn.metrics import confusion_matrix\n",
    "from sklearn.metrics import recall_score\n",
    "from sklearn.ensemble import GradientBoostingClassifier\n",
    "import scikitplot as skplt\n",
    "#from pycaret.classification import *"
   ]
  },
  {
   "cell_type": "code",
   "execution_count": 4,
   "metadata": {
    "scrolled": true
   },
   "outputs": [],
   "source": [
    "import numpy as np\n",
    "import tensorflow as tf\n",
    "import tensorflow_probability as tfp\n",
    "import warnings\n",
    "\n",
    "warnings.filterwarnings(\"ignore\")  # ignore DeprecationWarnings from tensorflow\n",
    "\n",
    "import matplotlib.pyplot as plt\n",
    "\n",
    "%matplotlib inline\n",
    "\n",
    "import gpflow\n",
    "\n",
    "from gpflow.utilities import print_summary, set_trainable\n",
    "from gpflow.ci_utils import ci_niter\n",
    "\n",
    "#from multiclass_classification import plot_posterior_predictions, colors\n",
    "\n",
    "# reproducibility:\n",
    "np.random.seed(0)\n",
    "tf.random.set_seed(123)\n",
    "import warnings\n",
    "\n",
    "\n",
    "warnings.warn(\"ignore\")"
   ]
  },
  {
   "cell_type": "code",
   "execution_count": 5,
   "metadata": {},
   "outputs": [],
   "source": [
    "# X_train = np.load('X_train_TREC_google_w2v.npy')\n",
    "# y_train = np.load('y_train_TREC.npy').astype(int)\n",
    "# X_test = np.load('X_test_TREC_google_w2v.npy')\n",
    "# y_test = np.load('y_test_TREC.npy').astype(int)"
   ]
  },
  {
   "cell_type": "code",
   "execution_count": 6,
   "metadata": {},
   "outputs": [],
   "source": [
    "# X_train = np.load('X_train_afr_manual_w2v.npy')\n",
    "# y_train = np.load('y_train.npy').astype(int)\n",
    "# X_test = np.load('X_test_afr_manual_w2v.npy')\n",
    "# y_test = np.load('y_test.npy').astype(int)"
   ]
  },
  {
   "cell_type": "code",
   "execution_count": 7,
   "metadata": {
    "scrolled": true
   },
   "outputs": [],
   "source": [
    "X_train = np.load('X_train_afr_google_w2v.npy')\n",
    "y_train = np.load('y_train.npy').astype(int)\n",
    "X_test = np.load('X_test_afr_google_w2v.npy')\n",
    "y_test = np.load('y_test.npy').astype(int)"
   ]
  },
  {
   "cell_type": "code",
   "execution_count": 8,
   "metadata": {},
   "outputs": [],
   "source": [
    "y_train=y_train[:,np.newaxis]\n",
    "y_test=y_test[:,np.newaxis]"
   ]
  },
  {
   "cell_type": "code",
   "execution_count": 9,
   "metadata": {},
   "outputs": [],
   "source": [
    "data=(X_train,y_train)"
   ]
  },
  {
   "cell_type": "markdown",
   "metadata": {},
   "source": [
    "## USing Squared Exponential Kernel\n"
   ]
  },
  {
   "cell_type": "code",
   "execution_count": 22,
   "metadata": {},
   "outputs": [],
   "source": [
    "M=1000\n",
    "rbf_m = gpflow.models.SVGP(\n",
    "    gpflow.kernels.SquaredExponential(),\n",
    "    gpflow.likelihoods.Bernoulli(),\n",
    "    gpflow.inducing_variables.InducingPoints(X_train[::M].copy()),\n",
    ")"
   ]
  },
  {
   "cell_type": "code",
   "execution_count": 23,
   "metadata": {},
   "outputs": [],
   "source": [
    "import warnings\n",
    "\n",
    "warnings.filterwarnings(\"ignore\")\n",
    "warnings.warn(\"ignore\")"
   ]
  },
  {
   "cell_type": "code",
   "execution_count": 24,
   "metadata": {},
   "outputs": [
    {
     "name": "stdout",
     "output_type": "stream",
     "text": [
      "RBF elbo before training: -2.4255e+05\n",
      "CPU times: user 13.4 s, sys: 4.73 s, total: 18.1 s\n",
      "Wall time: 11.6 s\n"
     ]
    }
   ],
   "source": [
    "%%time\n",
    "rbf_training_loss_closure = rbf_m.training_loss_closure(data, compile=True)\n",
    "rbf_elbo = lambda: -rbf_training_loss_closure().numpy()\n",
    "print(\"RBF elbo before training: %.4e\" % rbf_elbo())"
   ]
  },
  {
   "cell_type": "code",
   "execution_count": 25,
   "metadata": {},
   "outputs": [],
   "source": [
    "import time"
   ]
  },
  {
   "cell_type": "code",
   "execution_count": 26,
   "metadata": {
    "scrolled": true
   },
   "outputs": [
    {
     "name": "stdout",
     "output_type": "stream",
     "text": [
      "WARNING:tensorflow:AutoGraph could not transform <function Scipy.eval_func.<locals>._tf_eval at 0x7fa3a06b27a0> and will run it as-is.\n",
      "Please report this to the TensorFlow team. When filing the bug, set the verbosity to 10 (on Linux, `export AUTOGRAPH_VERBOSITY=10`) and attach the full output.\n",
      "Cause: module 'gast' has no attribute 'Index'\n",
      "To silence this warning, decorate the function with @tf.autograph.experimental.do_not_convert\n",
      "WARNING: AutoGraph could not transform <function Scipy.eval_func.<locals>._tf_eval at 0x7fa3a06b27a0> and will run it as-is.\n",
      "Please report this to the TensorFlow team. When filing the bug, set the verbosity to 10 (on Linux, `export AUTOGRAPH_VERBOSITY=10`) and attach the full output.\n",
      "Cause: module 'gast' has no attribute 'Index'\n",
      "To silence this warning, decorate the function with @tf.autograph.experimental.do_not_convert\n",
      "0.264 iter/s\n",
      "Accuracy for 244 induced data points out of 243994 actual  data points\n",
      "Train acc  : 89.72925563743371%\n",
      "Test acc : 89.64943375188264%\n",
      "RBF elbo after training: -6.2449e+04\n",
      "CPU times: user 55min 37s, sys: 8min 25s, total: 1h 4min 3s\n",
      "Wall time: 7min 5s\n"
     ]
    }
   ],
   "source": [
    "%%time\n",
    "set_trainable(rbf_m.inducing_variable, False)\n",
    "start_time = time.time()\n",
    "res = gpflow.optimizers.Scipy().minimize(\n",
    "    rbf_training_loss_closure,\n",
    "    variables=rbf_m.trainable_variables,\n",
    "    method=\"l-bfgs-b\",\n",
    "    options={\"disp\": True, \"maxiter\": 100},\n",
    ")\n",
    "print(f\"{res.nfev / (time.time() - start_time):.3f} iter/s\")\n",
    "\n",
    "### print accuracy \n",
    "train_acc = np.mean((rbf_m.predict_y(X_train)[0] > 0.5).numpy().astype(\"float\") == y_train)\n",
    "test_acc = np.mean((rbf_m.predict_y(X_test)[0] > 0.5).numpy().astype(\"float\") == y_test)\n",
    "print(f\"Accuracy for {len(X_train[::M])} induced data points out of {len(X_train)} actual  data points\")\n",
    "print(f\"Train acc  : {train_acc * 100}%\\nTest acc : {test_acc*100}%\")\n",
    "print(\"RBF elbo after training: %.4e\" % rbf_elbo())\n"
   ]
  },
  {
   "cell_type": "code",
   "execution_count": 27,
   "metadata": {
    "scrolled": true
   },
   "outputs": [
    {
     "name": "stdout",
     "output_type": "stream",
     "text": [
      "Accuracy with 244 induced data points \n",
      "Train acc  : 89.72925563743371%\n",
      "Test acc : 89.64943375188264%\n",
      "RBF elbo after training: -6.2449e+04\n"
     ]
    }
   ],
   "source": [
    "\n",
    "train_acc = np.mean((rbf_m.predict_y(X_train)[0] > 0.5).numpy().astype(\"float\") == y_train)\n",
    "test_acc = np.mean((rbf_m.predict_y(X_test)[0] > 0.5).numpy().astype(\"float\") == y_test)\n",
    "print(f\"Accuracy with {len(X_train[::M])} induced data points \")\n",
    "print(f\"Train acc  : {train_acc * 100}%\\nTest acc : {test_acc*100}%\")\n",
    "print(\"RBF elbo after training: %.4e\" % rbf_elbo())"
   ]
  },
  {
   "cell_type": "code",
   "execution_count": 28,
   "metadata": {},
   "outputs": [
    {
     "data": {
      "image/png": "[encoded data removed]",
      "text/plain": [
       "<Figure size 576x432 with 2 Axes>"
      ]
     },
     "metadata": {
      "needs_background": "light"
     },
     "output_type": "display_data"
    }
   ],
   "source": [
    "res = (rbf_m.predict_y(X_test)[0] > 0.5).numpy().astype(\"float\")\n",
    "skplt.metrics.plot_confusion_matrix(y_test, res)\n",
    "plt.title(\"Amazon-Dataset(Google Vectors)-SVGP-Confusion Matrix-Test Data\")\n",
    "plt.rcParams['figure.figsize']=(8,6)\n",
    "plt.show()"
   ]
  },
  {
   "cell_type": "code",
   "execution_count": 29,
   "metadata": {},
   "outputs": [
    {
     "data": {
      "image/png": "[encoded data removed]",
      "text/plain": [
       "<Figure size 576x432 with 2 Axes>"
      ]
     },
     "metadata": {
      "needs_background": "light"
     },
     "output_type": "display_data"
    }
   ],
   "source": [
    "res_tr = (rbf_m.predict_y(X_train)[0] > 0.5).numpy().astype(\"float\")\n",
    "skplt.metrics.plot_confusion_matrix(y_train, res_tr)\n",
    "plt.title(\"Amazon-Dataset(Google Vectors)-SVGP-Confusion Matrix-Training Data\")\n",
    "plt.rcParams['figure.figsize']=(8,6)\n",
    "plt.show()"
   ]
  },
  {
   "cell_type": "markdown",
   "metadata": {},
   "source": [
    "## Using centroids as induced points"
   ]
  },
  {
   "cell_type": "code",
   "execution_count": 10,
   "metadata": {
    "scrolled": true
   },
   "outputs": [],
   "source": [
    "# with centroids as inducing points \n",
    "from scipy import cluster\n",
    "M = 1000\n",
    "Z, distortion = cluster.vq.kmeans(X_train,M)"
   ]
  },
  {
   "cell_type": "code",
   "execution_count": 11,
   "metadata": {},
   "outputs": [],
   "source": [
    "rbf_m = gpflow.models.SVGP(\n",
    "    gpflow.kernels.SquaredExponential(),\n",
    "    gpflow.likelihoods.Bernoulli(),\n",
    "    gpflow.inducing_variables.InducingPoints(Z.copy()),\n",
    ")"
   ]
  },
  {
   "cell_type": "code",
   "execution_count": 12,
   "metadata": {},
   "outputs": [],
   "source": [
    "import warnings\n",
    "\n",
    "warnings.filterwarnings(\"ignore\")\n",
    "warnings.warn(\"ignore\")"
   ]
  },
  {
   "cell_type": "code",
   "execution_count": 13,
   "metadata": {},
   "outputs": [
    {
     "name": "stdout",
     "output_type": "stream",
     "text": [
      "WARNING:tensorflow:AutoGraph could not transform <bound method SVGP.elbo of <gpflow.models.svgp.SVGP object at 0x7fa3e07afdd0>> and will run it as-is.\n",
      "Please report this to the TensorFlow team. When filing the bug, set the verbosity to 10 (on Linux, `export AUTOGRAPH_VERBOSITY=10`) and attach the full output.\n",
      "Cause: module 'gast' has no attribute 'Index'\n",
      "To silence this warning, decorate the function with @tf.autograph.experimental.do_not_convert\n",
      "WARNING: AutoGraph could not transform <bound method SVGP.elbo of <gpflow.models.svgp.SVGP object at 0x7fa3e07afdd0>> and will run it as-is.\n",
      "Please report this to the TensorFlow team. When filing the bug, set the verbosity to 10 (on Linux, `export AUTOGRAPH_VERBOSITY=10`) and attach the full output.\n",
      "Cause: module 'gast' has no attribute 'Index'\n",
      "To silence this warning, decorate the function with @tf.autograph.experimental.do_not_convert\n",
      "RBF elbo before training: -2.4255e+05\n",
      "CPU times: user 47.4 s, sys: 8.2 s, total: 55.6 s\n",
      "Wall time: 24.3 s\n"
     ]
    }
   ],
   "source": [
    "%%time\n",
    "rbf_training_loss_closure = rbf_m.training_loss_closure(data, compile=True)\n",
    "rbf_elbo = lambda: -rbf_training_loss_closure().numpy()\n",
    "print(\"RBF elbo before training: %.4e\" % rbf_elbo())"
   ]
  },
  {
   "cell_type": "code",
   "execution_count": 14,
   "metadata": {},
   "outputs": [
    {
     "name": "stdout",
     "output_type": "stream",
     "text": [
      "WARNING:tensorflow:AutoGraph could not transform <function Scipy.eval_func.<locals>._tf_eval at 0x7fa3dfd6ab90> and will run it as-is.\n",
      "Please report this to the TensorFlow team. When filing the bug, set the verbosity to 10 (on Linux, `export AUTOGRAPH_VERBOSITY=10`) and attach the full output.\n",
      "Cause: module 'gast' has no attribute 'Index'\n",
      "To silence this warning, decorate the function with @tf.autograph.experimental.do_not_convert\n",
      "WARNING: AutoGraph could not transform <function Scipy.eval_func.<locals>._tf_eval at 0x7fa3dfd6ab90> and will run it as-is.\n",
      "Please report this to the TensorFlow team. When filing the bug, set the verbosity to 10 (on Linux, `export AUTOGRAPH_VERBOSITY=10`) and attach the full output.\n",
      "Cause: module 'gast' has no attribute 'Index'\n",
      "To silence this warning, decorate the function with @tf.autograph.experimental.do_not_convert\n",
      "0.034 iter/s\n",
      "Accuracy for 244 induced data points out of 243994 actual  data points\n",
      "Train acc  : 90.02680393780174%\n",
      "Test acc : 89.859956564068%\n",
      "RBF elbo after training: -6.0904e+04\n",
      "CPU times: user 4h 33min 12s, sys: 26min 46s, total: 4h 59min 59s\n",
      "Wall time: 57min 13s\n"
     ]
    }
   ],
   "source": [
    "%%time\n",
    "set_trainable(rbf_m.inducing_variable, False)\n",
    "start_time = time.time()\n",
    "res = gpflow.optimizers.Scipy().minimize(\n",
    "    rbf_training_loss_closure,\n",
    "    variables=rbf_m.trainable_variables,\n",
    "    method=\"l-bfgs-b\",\n",
    "    options={\"disp\": True, \"maxiter\": 100},\n",
    ")\n",
    "print(f\"{res.nfev / (time.time() - start_time):.3f} iter/s\")\n",
    "\n",
    "### print accuracy \n",
    "train_acc = np.mean((rbf_m.predict_y(X_train)[0] > 0.5).numpy().astype(\"float\") == y_train)\n",
    "test_acc = np.mean((rbf_m.predict_y(X_test)[0] > 0.5).numpy().astype(\"float\") == y_test)\n",
    "print(f\"Accuracy for {len(X_train[::M])} induced data points out of {len(X_train)} actual  data points\")\n",
    "print(f\"Train acc  : {train_acc * 100}%\\nTest acc : {test_acc*100}%\")\n",
    "print(\"RBF elbo after training: %.4e\" % rbf_elbo())\n"
   ]
  },
  {
   "cell_type": "code",
   "execution_count": 16,
   "metadata": {},
   "outputs": [
    {
     "name": "stdout",
     "output_type": "stream",
     "text": [
      "Accuracy with 1000 induced data points \n",
      "Train acc  : 90.02680393780174%\n",
      "Test acc : 89.859956564068%\n",
      "RBF elbo after training: -6.0904e+04\n"
     ]
    }
   ],
   "source": [
    "train_acc = np.mean((rbf_m.predict_y(X_train)[0] > 0.5).numpy().astype(\"float\") == y_train)\n",
    "test_acc = np.mean((rbf_m.predict_y(X_test)[0] > 0.5).numpy().astype(\"float\") == y_test)\n",
    "print(f\"Accuracy with {M} induced data points \")\n",
    "print(f\"Train acc  : {train_acc * 100}%\\nTest acc : {test_acc*100}%\")\n",
    "print(\"RBF elbo after training: %.4e\" % rbf_elbo())"
   ]
  },
  {
   "cell_type": "code",
   "execution_count": 19,
   "metadata": {},
   "outputs": [
    {
     "data": {
      "image/png": "[encoded data removed]",
      "text/plain": [
       "<Figure size 432x288 with 2 Axes>"
      ]
     },
     "metadata": {
      "needs_background": "light"
     },
     "output_type": "display_data"
    }
   ],
   "source": [
    "res = (rbf_m.predict_y(X_test)[0] > 0.5).numpy().astype(\"float\")\n",
    "skplt.metrics.plot_confusion_matrix(y_test, res)\n",
    "plt.title(\"Amazon-Dataset(Google Vectors)-SVGP-Confusion Matrix-Test Data(Centroids)\")\n",
    "plt.rcParams['figure.figsize']=(8,6)\n",
    "plt.show()"
   ]
  },
  {
   "cell_type": "code",
   "execution_count": 20,
   "metadata": {},
   "outputs": [
    {
     "data": {
      "image/png": "[encoded data removed]",
      "text/plain": [
       "<Figure size 576x432 with 2 Axes>"
      ]
     },
     "metadata": {
      "needs_background": "light"
     },
     "output_type": "display_data"
    }
   ],
   "source": [
    "res_tr = (rbf_m.predict_y(X_train)[0] > 0.5).numpy().astype(\"float\")\n",
    "skplt.metrics.plot_confusion_matrix(y_train, res_tr)\n",
    "plt.title(\"Amazon-Dataset(Google Vectors)-SVGP-Confusion Matrix-Training Data(Centroids)\")\n",
    "plt.rcParams['figure.figsize']=(8,6)\n",
    "plt.show()"
   ]
  }
 ],
 "metadata": {
  "hide_input": false,
  "kernelspec": {
   "display_name": "Python 3",
   "language": "python",
   "name": "python3"
  },
  "language_info": {
   "codemirror_mode": {
    "name": "ipython",
    "version": 3
   },
   "file_extension": ".py",
   "mimetype": "text/x-python",
   "name": "python",
   "nbconvert_exporter": "python",
   "pygments_lexer": "ipython3",
   "version": "3.7.3"
  }
 },
 "nbformat": 4,
 "nbformat_minor": 4
}

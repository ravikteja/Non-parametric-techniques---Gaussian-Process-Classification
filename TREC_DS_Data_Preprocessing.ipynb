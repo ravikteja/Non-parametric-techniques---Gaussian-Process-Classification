{
 "cells": [
  {
   "cell_type": "markdown",
   "metadata": {},
   "source": [
    "# Pre-Processing of TREC data set and TSNE visualization"
   ]
  },
  {
   "cell_type": "code",
   "execution_count": 3,
   "metadata": {
    "colab": {},
    "colab_type": "code",
    "id": "PvDdRsHgCAY5",
    "outputId": "65b237f2-2ead-4721-f95a-15ed0bb06d04"
   },
   "outputs": [],
   "source": [
    "%matplotlib inline\n",
    "import warnings\n",
    "warnings.filterwarnings(\"ignore\")\n",
    "\n",
    "\n",
    "from bs4 import BeautifulSoup\n",
    "import sqlite3\n",
    "import pandas as pd\n",
    "import numpy as np\n",
    "import nltk\n",
    "import string\n",
    "import matplotlib.pyplot as plt\n",
    "import seaborn as sns\n",
    "from sklearn.feature_extraction.text import TfidfTransformer\n",
    "from sklearn.feature_extraction.text import TfidfVectorizer\n",
    "\n",
    "from sklearn.feature_extraction.text import CountVectorizer\n",
    "from sklearn.metrics import confusion_matrix\n",
    "from sklearn import metrics\n",
    "from sklearn.metrics import roc_curve, auc\n",
    "from nltk.stem.porter import PorterStemmer\n",
    "\n",
    "import re\n",
    "# Tutorial about Python regular expressions: https://pymotw.com/2/re/\n",
    "import string\n",
    "from nltk.corpus import stopwords\n",
    "from nltk.stem import PorterStemmer\n",
    "from nltk.stem.wordnet import WordNetLemmatizer\n",
    "\n",
    "from gensim.models import Word2Vec\n",
    "from gensim.models import KeyedVectors\n",
    "import pickle\n",
    "\n",
    "from tqdm import tqdm\n",
    "import os"
   ]
  },
  {
   "cell_type": "markdown",
   "metadata": {
    "colab_type": "text",
    "id": "QOI7X2YgCAY_"
   },
   "source": [
    "## [1]. Reading Data"
   ]
  },
  {
   "cell_type": "code",
   "execution_count": 4,
   "metadata": {},
   "outputs": [],
   "source": [
    "file_encoding = 'cp1252'\n",
    "\n",
    "train_url = 'https://raw.githubusercontent.com/CS287/HW1/master/data/TREC.train.all'\n",
    "test_url='https://raw.githubusercontent.com/CS287/HW1/master/data/TREC.test.all'\n",
    "df_train = pd.read_csv(train_url,names=['code'],encoding=file_encoding)\n",
    "df_test = pd.read_csv(test_url,names=['code'],encoding=file_encoding)\n",
    "df_train[['label','text']] = df_train[\"code\"].str.split(\" \", 1,expand=True)\n",
    "df_test[['label','text']] = df_train[\"code\"].str.split(\" \", 1,expand=True)\n",
    "\n"
   ]
  },
  {
   "cell_type": "code",
   "execution_count": 5,
   "metadata": {},
   "outputs": [
    {
     "data": {
      "text/html": [
       "<div>\n",
       "<style scoped>\n",
       "    .dataframe tbody tr th:only-of-type {\n",
       "        vertical-align: middle;\n",
       "    }\n",
       "\n",
       "    .dataframe tbody tr th {\n",
       "        vertical-align: top;\n",
       "    }\n",
       "\n",
       "    .dataframe thead th {\n",
       "        text-align: right;\n",
       "    }\n",
       "</style>\n",
       "<table border=\"1\" class=\"dataframe\">\n",
       "  <thead>\n",
       "    <tr style=\"text-align: right;\">\n",
       "      <th></th>\n",
       "      <th>code</th>\n",
       "      <th>label</th>\n",
       "      <th>text</th>\n",
       "    </tr>\n",
       "  </thead>\n",
       "  <tbody>\n",
       "    <tr>\n",
       "      <th>0</th>\n",
       "      <td>0 How did serfdom develop in and then leave Ru...</td>\n",
       "      <td>0</td>\n",
       "      <td>How did serfdom develop in and then leave Russ...</td>\n",
       "    </tr>\n",
       "    <tr>\n",
       "      <th>1</th>\n",
       "      <td>1 What films featured the character Popeye Doy...</td>\n",
       "      <td>1</td>\n",
       "      <td>What films featured the character Popeye Doyle ?</td>\n",
       "    </tr>\n",
       "    <tr>\n",
       "      <th>2</th>\n",
       "      <td>0 How can I find a list of celebrities ' real ...</td>\n",
       "      <td>0</td>\n",
       "      <td>How can I find a list of celebrities ' real na...</td>\n",
       "    </tr>\n",
       "    <tr>\n",
       "      <th>3</th>\n",
       "      <td>1 What fowl grabs the spotlight after the Chin...</td>\n",
       "      <td>1</td>\n",
       "      <td>What fowl grabs the spotlight after the Chines...</td>\n",
       "    </tr>\n",
       "    <tr>\n",
       "      <th>4</th>\n",
       "      <td>2 What is the full form of .com ?</td>\n",
       "      <td>2</td>\n",
       "      <td>What is the full form of .com ?</td>\n",
       "    </tr>\n",
       "    <tr>\n",
       "      <th>...</th>\n",
       "      <td>...</td>\n",
       "      <td>...</td>\n",
       "      <td>...</td>\n",
       "    </tr>\n",
       "    <tr>\n",
       "      <th>5447</th>\n",
       "      <td>1 What 's the shape of a camel 's spine ?</td>\n",
       "      <td>1</td>\n",
       "      <td>What 's the shape of a camel 's spine ?</td>\n",
       "    </tr>\n",
       "    <tr>\n",
       "      <th>5448</th>\n",
       "      <td>1 What type of currency is used in China ?</td>\n",
       "      <td>1</td>\n",
       "      <td>What type of currency is used in China ?</td>\n",
       "    </tr>\n",
       "    <tr>\n",
       "      <th>5449</th>\n",
       "      <td>5 What is the temperature today ?</td>\n",
       "      <td>5</td>\n",
       "      <td>What is the temperature today ?</td>\n",
       "    </tr>\n",
       "    <tr>\n",
       "      <th>5450</th>\n",
       "      <td>5 What is the temperature for cooking ?</td>\n",
       "      <td>5</td>\n",
       "      <td>What is the temperature for cooking ?</td>\n",
       "    </tr>\n",
       "    <tr>\n",
       "      <th>5451</th>\n",
       "      <td>1 What currency is used in Australia ?</td>\n",
       "      <td>1</td>\n",
       "      <td>What currency is used in Australia ?</td>\n",
       "    </tr>\n",
       "  </tbody>\n",
       "</table>\n",
       "<p>5452 rows × 3 columns</p>\n",
       "</div>"
      ],
      "text/plain": [
       "                                                   code label  \\\n",
       "0     0 How did serfdom develop in and then leave Ru...     0   \n",
       "1     1 What films featured the character Popeye Doy...     1   \n",
       "2     0 How can I find a list of celebrities ' real ...     0   \n",
       "3     1 What fowl grabs the spotlight after the Chin...     1   \n",
       "4                     2 What is the full form of .com ?     2   \n",
       "...                                                 ...   ...   \n",
       "5447          1 What 's the shape of a camel 's spine ?     1   \n",
       "5448         1 What type of currency is used in China ?     1   \n",
       "5449                  5 What is the temperature today ?     5   \n",
       "5450            5 What is the temperature for cooking ?     5   \n",
       "5451             1 What currency is used in Australia ?     1   \n",
       "\n",
       "                                                   text  \n",
       "0     How did serfdom develop in and then leave Russ...  \n",
       "1      What films featured the character Popeye Doyle ?  \n",
       "2     How can I find a list of celebrities ' real na...  \n",
       "3     What fowl grabs the spotlight after the Chines...  \n",
       "4                       What is the full form of .com ?  \n",
       "...                                                 ...  \n",
       "5447            What 's the shape of a camel 's spine ?  \n",
       "5448           What type of currency is used in China ?  \n",
       "5449                    What is the temperature today ?  \n",
       "5450              What is the temperature for cooking ?  \n",
       "5451               What currency is used in Australia ?  \n",
       "\n",
       "[5452 rows x 3 columns]"
      ]
     },
     "execution_count": 5,
     "metadata": {},
     "output_type": "execute_result"
    }
   ],
   "source": [
    "df_train"
   ]
  },
  {
   "cell_type": "code",
   "execution_count": 6,
   "metadata": {},
   "outputs": [
    {
     "data": {
      "text/html": [
       "<div>\n",
       "<style scoped>\n",
       "    .dataframe tbody tr th:only-of-type {\n",
       "        vertical-align: middle;\n",
       "    }\n",
       "\n",
       "    .dataframe tbody tr th {\n",
       "        vertical-align: top;\n",
       "    }\n",
       "\n",
       "    .dataframe thead th {\n",
       "        text-align: right;\n",
       "    }\n",
       "</style>\n",
       "<table border=\"1\" class=\"dataframe\">\n",
       "  <thead>\n",
       "    <tr style=\"text-align: right;\">\n",
       "      <th></th>\n",
       "      <th>code</th>\n",
       "      <th>label</th>\n",
       "      <th>text</th>\n",
       "    </tr>\n",
       "  </thead>\n",
       "  <tbody>\n",
       "    <tr>\n",
       "      <th>0</th>\n",
       "      <td>5 How far is it from Denver to Aspen ?</td>\n",
       "      <td>0</td>\n",
       "      <td>How did serfdom develop in and then leave Russ...</td>\n",
       "    </tr>\n",
       "    <tr>\n",
       "      <th>1</th>\n",
       "      <td>4 What county is Modesto</td>\n",
       "      <td>1</td>\n",
       "      <td>What films featured the character Popeye Doyle ?</td>\n",
       "    </tr>\n",
       "    <tr>\n",
       "      <th>2</th>\n",
       "      <td>3 Who was Galileo ?</td>\n",
       "      <td>0</td>\n",
       "      <td>How can I find a list of celebrities ' real na...</td>\n",
       "    </tr>\n",
       "    <tr>\n",
       "      <th>3</th>\n",
       "      <td>0 What is an atom ?</td>\n",
       "      <td>1</td>\n",
       "      <td>What fowl grabs the spotlight after the Chines...</td>\n",
       "    </tr>\n",
       "    <tr>\n",
       "      <th>4</th>\n",
       "      <td>5 When did Hawaii become a state ?</td>\n",
       "      <td>2</td>\n",
       "      <td>What is the full form of .com ?</td>\n",
       "    </tr>\n",
       "    <tr>\n",
       "      <th>...</th>\n",
       "      <td>...</td>\n",
       "      <td>...</td>\n",
       "      <td>...</td>\n",
       "    </tr>\n",
       "    <tr>\n",
       "      <th>495</th>\n",
       "      <td>3 Who was the 22nd President of the US ?</td>\n",
       "      <td>1</td>\n",
       "      <td>What is the Jewish bible called ?</td>\n",
       "    </tr>\n",
       "    <tr>\n",
       "      <th>496</th>\n",
       "      <td>1 What is the money they use in Zambia ?</td>\n",
       "      <td>0</td>\n",
       "      <td>Why is the grass green ?</td>\n",
       "    </tr>\n",
       "    <tr>\n",
       "      <th>497</th>\n",
       "      <td>5 How many feet in a mile ?</td>\n",
       "      <td>0</td>\n",
       "      <td>What is a firewall ?</td>\n",
       "    </tr>\n",
       "    <tr>\n",
       "      <th>498</th>\n",
       "      <td>1 What is the birthstone of October ?</td>\n",
       "      <td>3</td>\n",
       "      <td>What spy novelist served as Moscow corresponde...</td>\n",
       "    </tr>\n",
       "    <tr>\n",
       "      <th>499</th>\n",
       "      <td>0 What is e-coli ?</td>\n",
       "      <td>3</td>\n",
       "      <td>Which oil company almost picked a word that me...</td>\n",
       "    </tr>\n",
       "  </tbody>\n",
       "</table>\n",
       "<p>500 rows × 3 columns</p>\n",
       "</div>"
      ],
      "text/plain": [
       "                                         code label  \\\n",
       "0      5 How far is it from Denver to Aspen ?     0   \n",
       "1                   4 What county is Modesto      1   \n",
       "2                         3 Who was Galileo ?     0   \n",
       "3                         0 What is an atom ?     1   \n",
       "4          5 When did Hawaii become a state ?     2   \n",
       "..                                        ...   ...   \n",
       "495  3 Who was the 22nd President of the US ?     1   \n",
       "496  1 What is the money they use in Zambia ?     0   \n",
       "497               5 How many feet in a mile ?     0   \n",
       "498     1 What is the birthstone of October ?     3   \n",
       "499                        0 What is e-coli ?     3   \n",
       "\n",
       "                                                  text  \n",
       "0    How did serfdom develop in and then leave Russ...  \n",
       "1     What films featured the character Popeye Doyle ?  \n",
       "2    How can I find a list of celebrities ' real na...  \n",
       "3    What fowl grabs the spotlight after the Chines...  \n",
       "4                      What is the full form of .com ?  \n",
       "..                                                 ...  \n",
       "495                  What is the Jewish bible called ?  \n",
       "496                           Why is the grass green ?  \n",
       "497                               What is a firewall ?  \n",
       "498  What spy novelist served as Moscow corresponde...  \n",
       "499  Which oil company almost picked a word that me...  \n",
       "\n",
       "[500 rows x 3 columns]"
      ]
     },
     "execution_count": 6,
     "metadata": {},
     "output_type": "execute_result"
    }
   ],
   "source": [
    "df_test"
   ]
  },
  {
   "cell_type": "code",
   "execution_count": 8,
   "metadata": {
    "colab": {},
    "colab_type": "code",
    "id": "8TpsGDdJCAZm",
    "outputId": "287c6c08-d222-4848-b677-c9a5e769d0b1"
   },
   "outputs": [
    {
     "name": "stdout",
     "output_type": "stream",
     "text": [
      "(5452, 3)\n"
     ]
    },
    {
     "data": {
      "text/plain": [
       "1    1250\n",
       "3    1223\n",
       "0    1162\n",
       "5     896\n",
       "4     835\n",
       "2      86\n",
       "Name: label, dtype: int64"
      ]
     },
     "execution_count": 8,
     "metadata": {},
     "output_type": "execute_result"
    }
   ],
   "source": [
    "#Before starting the next phase of preprocessing lets see the number of entries left\n",
    "print(df_train.shape)\n",
    "\n",
    "#How many positive and negative reviews are present in our dataset?\n",
    "df_train['label'].value_counts()"
   ]
  },
  {
   "cell_type": "code",
   "execution_count": 9,
   "metadata": {
    "colab": {},
    "colab_type": "code",
    "id": "lNHWbzBaCAZ3"
   },
   "outputs": [],
   "source": [
    "# https://stackoverflow.com/a/47091490/4084039\n",
    "import re\n",
    "\n",
    "def decontracted(phrase):\n",
    "    # specific\n",
    "    phrase = re.sub(r\"won't\", \"will not\", phrase)\n",
    "    phrase = re.sub(r\"can\\'t\", \"can not\", phrase)\n",
    "\n",
    "    # general\n",
    "    phrase = re.sub(r\"n\\'t\", \" not\", phrase)\n",
    "    phrase = re.sub(r\"\\'re\", \" are\", phrase)\n",
    "    phrase = re.sub(r\"\\'s\", \" is\", phrase)\n",
    "    phrase = re.sub(r\"\\'d\", \" would\", phrase)\n",
    "    phrase = re.sub(r\"\\'ll\", \" will\", phrase)\n",
    "    phrase = re.sub(r\"\\'t\", \" not\", phrase)\n",
    "    phrase = re.sub(r\"\\'ve\", \" have\", phrase)\n",
    "    phrase = re.sub(r\"\\'m\", \" am\", phrase)\n",
    "    return phrase"
   ]
  },
  {
   "cell_type": "code",
   "execution_count": 10,
   "metadata": {
    "colab": {},
    "colab_type": "code",
    "id": "Xsr4xHkJCAaA"
   },
   "outputs": [],
   "source": [
    "# https://gist.github.com/sebleier/554280\n",
    "# we are removing the words from the stop words list: 'no', 'nor', 'not'\n",
    "# <br /><br /> ==> after the above steps, we are getting \"br br\"\n",
    "# we are including them into stop words list\n",
    "# instead of <br /> if we have <br/> these tags would have revmoved in the 1st step\n",
    "\n",
    "stopwords= set(['br', 'the', 'i', 'me', 'my', 'myself', 'we', 'our', 'ours', 'ourselves', 'you', \"you're\", \"you've\",\\\n",
    "            \"you'll\", \"you'd\", 'your', 'yours', 'yourself', 'yourselves', 'he', 'him', 'his', 'himself', \\\n",
    "            'she', \"she's\", 'her', 'hers', 'herself', 'it', \"it's\", 'its', 'itself', 'they', 'them', 'their',\\\n",
    "            'theirs', 'themselves', 'what', 'which', 'who', 'whom', 'this', 'that', \"that'll\", 'these', 'those', \\\n",
    "            'am', 'is', 'are', 'was', 'were', 'be', 'been', 'being', 'have', 'has', 'had', 'having', 'do', 'does', \\\n",
    "            'did', 'doing', 'a', 'an', 'the', 'and', 'but', 'if', 'or', 'because', 'as', 'until', 'while', 'of', \\\n",
    "            'at', 'by', 'for', 'with', 'about', 'against', 'between', 'into', 'through', 'during', 'before', 'after',\\\n",
    "            'above', 'below', 'to', 'from', 'up', 'down', 'in', 'out', 'on', 'off', 'over', 'under', 'again', 'further',\\\n",
    "            'then', 'once', 'here', 'there', 'when', 'where', 'why', 'how', 'all', 'any', 'both', 'each', 'few', 'more',\\\n",
    "            'most', 'other', 'some', 'such', 'only', 'own', 'same', 'so', 'than', 'too', 'very', \\\n",
    "            's', 't', 'can', 'will', 'just', 'don', \"don't\", 'should', \"should've\", 'now', 'd', 'll', 'm', 'o', 're', \\\n",
    "            've', 'y', 'ain', 'aren', \"aren't\", 'couldn', \"couldn't\", 'didn', \"didn't\", 'doesn', \"doesn't\", 'hadn',\\\n",
    "            \"hadn't\", 'hasn', \"hasn't\", 'haven', \"haven't\", 'isn', \"isn't\", 'ma', 'mightn', \"mightn't\", 'mustn',\\\n",
    "            \"mustn't\", 'needn', \"needn't\", 'shan', \"shan't\", 'shouldn', \"shouldn't\", 'wasn', \"wasn't\", 'weren', \"weren't\", \\\n",
    "            'won', \"won't\", 'wouldn', \"wouldn't\"])"
   ]
  },
  {
   "cell_type": "code",
   "execution_count": 11,
   "metadata": {},
   "outputs": [
    {
     "name": "stderr",
     "output_type": "stream",
     "text": [
      "[nltk_data] Downloading package punkt to\n",
      "[nltk_data]     C:\\Users\\bccuser04\\AppData\\Roaming\\nltk_data...\n",
      "[nltk_data]   Package punkt is already up-to-date!\n"
     ]
    },
    {
     "data": {
      "text/plain": [
       "True"
      ]
     },
     "execution_count": 11,
     "metadata": {},
     "output_type": "execute_result"
    }
   ],
   "source": [
    "import nltk\n",
    "nltk.download('punkt')"
   ]
  },
  {
   "cell_type": "code",
   "execution_count": 12,
   "metadata": {},
   "outputs": [
    {
     "data": {
      "text/html": [
       "<div>\n",
       "<style scoped>\n",
       "    .dataframe tbody tr th:only-of-type {\n",
       "        vertical-align: middle;\n",
       "    }\n",
       "\n",
       "    .dataframe tbody tr th {\n",
       "        vertical-align: top;\n",
       "    }\n",
       "\n",
       "    .dataframe thead th {\n",
       "        text-align: right;\n",
       "    }\n",
       "</style>\n",
       "<table border=\"1\" class=\"dataframe\">\n",
       "  <thead>\n",
       "    <tr style=\"text-align: right;\">\n",
       "      <th></th>\n",
       "      <th>code</th>\n",
       "      <th>label</th>\n",
       "      <th>text</th>\n",
       "    </tr>\n",
       "  </thead>\n",
       "  <tbody>\n",
       "    <tr>\n",
       "      <th>0</th>\n",
       "      <td>0 How did serfdom develop in and then leave Ru...</td>\n",
       "      <td>0</td>\n",
       "      <td>How did serfdom develop in and then leave Russ...</td>\n",
       "    </tr>\n",
       "    <tr>\n",
       "      <th>1</th>\n",
       "      <td>1 What films featured the character Popeye Doy...</td>\n",
       "      <td>1</td>\n",
       "      <td>What films featured the character Popeye Doyle ?</td>\n",
       "    </tr>\n",
       "    <tr>\n",
       "      <th>2</th>\n",
       "      <td>0 How can I find a list of celebrities ' real ...</td>\n",
       "      <td>0</td>\n",
       "      <td>How can I find a list of celebrities ' real na...</td>\n",
       "    </tr>\n",
       "    <tr>\n",
       "      <th>3</th>\n",
       "      <td>1 What fowl grabs the spotlight after the Chin...</td>\n",
       "      <td>1</td>\n",
       "      <td>What fowl grabs the spotlight after the Chines...</td>\n",
       "    </tr>\n",
       "    <tr>\n",
       "      <th>4</th>\n",
       "      <td>2 What is the full form of .com ?</td>\n",
       "      <td>2</td>\n",
       "      <td>What is the full form of .com ?</td>\n",
       "    </tr>\n",
       "    <tr>\n",
       "      <th>...</th>\n",
       "      <td>...</td>\n",
       "      <td>...</td>\n",
       "      <td>...</td>\n",
       "    </tr>\n",
       "    <tr>\n",
       "      <th>5447</th>\n",
       "      <td>1 What 's the shape of a camel 's spine ?</td>\n",
       "      <td>1</td>\n",
       "      <td>What 's the shape of a camel 's spine ?</td>\n",
       "    </tr>\n",
       "    <tr>\n",
       "      <th>5448</th>\n",
       "      <td>1 What type of currency is used in China ?</td>\n",
       "      <td>1</td>\n",
       "      <td>What type of currency is used in China ?</td>\n",
       "    </tr>\n",
       "    <tr>\n",
       "      <th>5449</th>\n",
       "      <td>5 What is the temperature today ?</td>\n",
       "      <td>5</td>\n",
       "      <td>What is the temperature today ?</td>\n",
       "    </tr>\n",
       "    <tr>\n",
       "      <th>5450</th>\n",
       "      <td>5 What is the temperature for cooking ?</td>\n",
       "      <td>5</td>\n",
       "      <td>What is the temperature for cooking ?</td>\n",
       "    </tr>\n",
       "    <tr>\n",
       "      <th>5451</th>\n",
       "      <td>1 What currency is used in Australia ?</td>\n",
       "      <td>1</td>\n",
       "      <td>What currency is used in Australia ?</td>\n",
       "    </tr>\n",
       "  </tbody>\n",
       "</table>\n",
       "<p>5452 rows × 3 columns</p>\n",
       "</div>"
      ],
      "text/plain": [
       "                                                   code label  \\\n",
       "0     0 How did serfdom develop in and then leave Ru...     0   \n",
       "1     1 What films featured the character Popeye Doy...     1   \n",
       "2     0 How can I find a list of celebrities ' real ...     0   \n",
       "3     1 What fowl grabs the spotlight after the Chin...     1   \n",
       "4                     2 What is the full form of .com ?     2   \n",
       "...                                                 ...   ...   \n",
       "5447          1 What 's the shape of a camel 's spine ?     1   \n",
       "5448         1 What type of currency is used in China ?     1   \n",
       "5449                  5 What is the temperature today ?     5   \n",
       "5450            5 What is the temperature for cooking ?     5   \n",
       "5451             1 What currency is used in Australia ?     1   \n",
       "\n",
       "                                                   text  \n",
       "0     How did serfdom develop in and then leave Russ...  \n",
       "1      What films featured the character Popeye Doyle ?  \n",
       "2     How can I find a list of celebrities ' real na...  \n",
       "3     What fowl grabs the spotlight after the Chines...  \n",
       "4                       What is the full form of .com ?  \n",
       "...                                                 ...  \n",
       "5447            What 's the shape of a camel 's spine ?  \n",
       "5448           What type of currency is used in China ?  \n",
       "5449                    What is the temperature today ?  \n",
       "5450              What is the temperature for cooking ?  \n",
       "5451               What currency is used in Australia ?  \n",
       "\n",
       "[5452 rows x 3 columns]"
      ]
     },
     "execution_count": 12,
     "metadata": {},
     "output_type": "execute_result"
    }
   ],
   "source": [
    "df_train"
   ]
  },
  {
   "cell_type": "code",
   "execution_count": 13,
   "metadata": {
    "colab": {},
    "colab_type": "code",
    "id": "MgsJ09NpCAaB",
    "outputId": "1d7ef7e7-d03e-4bff-850a-a2aef70af7d9"
   },
   "outputs": [
    {
     "name": "stderr",
     "output_type": "stream",
     "text": [
      "100%|████████████████████████████████████████████████████████████████████████████| 5452/5452 [00:01<00:00, 3377.10it/s]\n"
     ]
    }
   ],
   "source": [
    "# Combining all the above stundents\n",
    "from tqdm import tqdm\n",
    "preprocessed_reviews = []\n",
    "# tqdm is for printing the status bar\n",
    "for sentance in tqdm(df_train['text'].values):\n",
    "    #print(sentance)\n",
    "    sentance = re.sub(r\"http\\S+\", \"\", sentance)\n",
    "    sentance = BeautifulSoup(sentance, 'lxml').get_text()\n",
    "    sentance = decontracted(sentance)\n",
    "    sentance = re.sub(\"\\S*\\d\\S*\", \"\", sentance).strip()\n",
    "    sentance = re.sub('[^A-Za-z]+', ' ', sentance)\n",
    "    # https://gist.github.com/sebleier/554280\n",
    "    sentance = ' '.join(e.lower() for e in sentance.split() if e.lower() not in stopwords)\n",
    "    #sentance = ' '.join(e.lower() for token in nltk.word_tokenize(sentance) if token.lower() not in stopwords)\n",
    "    preprocessed_reviews.append(sentance.strip())"
   ]
  },
  {
   "cell_type": "code",
   "execution_count": 14,
   "metadata": {},
   "outputs": [],
   "source": [
    "df_train[\"CleanedText\"]=preprocessed_reviews"
   ]
  },
  {
   "cell_type": "code",
   "execution_count": 15,
   "metadata": {
    "scrolled": true
   },
   "outputs": [
    {
     "name": "stderr",
     "output_type": "stream",
     "text": [
      "100%|██████████████████████████████████████████████████████████████████████████████| 500/500 [00:00<00:00, 3498.15it/s]\n"
     ]
    }
   ],
   "source": [
    "# Combining all the above stundents\n",
    "from tqdm import tqdm\n",
    "preprocessed_reviews = []\n",
    "# tqdm is for printing the status bar\n",
    "for sentance in tqdm(df_test['text'].values):\n",
    "    #print(sentance)\n",
    "    sentance = re.sub(r\"http\\S+\", \"\", sentance)\n",
    "    sentance = BeautifulSoup(sentance, 'lxml').get_text()\n",
    "    sentance = decontracted(sentance)\n",
    "    sentance = re.sub(\"\\S*\\d\\S*\", \"\", sentance).strip()\n",
    "    sentance = re.sub('[^A-Za-z]+', ' ', sentance)\n",
    "    # https://gist.github.com/sebleier/554280\n",
    "    sentance = ' '.join(e.lower() for e in sentance.split() if e.lower() not in stopwords)\n",
    "    #sentance = ' '.join(e.lower() for token in nltk.word_tokenize(sentance) if token.lower() not in stopwords)\n",
    "    preprocessed_reviews.append(sentance.strip())"
   ]
  },
  {
   "cell_type": "code",
   "execution_count": 16,
   "metadata": {},
   "outputs": [],
   "source": [
    "df_test[\"CleanedText\"]=preprocessed_reviews"
   ]
  },
  {
   "cell_type": "code",
   "execution_count": 17,
   "metadata": {},
   "outputs": [
    {
     "data": {
      "text/html": [
       "<div>\n",
       "<style scoped>\n",
       "    .dataframe tbody tr th:only-of-type {\n",
       "        vertical-align: middle;\n",
       "    }\n",
       "\n",
       "    .dataframe tbody tr th {\n",
       "        vertical-align: top;\n",
       "    }\n",
       "\n",
       "    .dataframe thead th {\n",
       "        text-align: right;\n",
       "    }\n",
       "</style>\n",
       "<table border=\"1\" class=\"dataframe\">\n",
       "  <thead>\n",
       "    <tr style=\"text-align: right;\">\n",
       "      <th></th>\n",
       "      <th>code</th>\n",
       "      <th>label</th>\n",
       "      <th>text</th>\n",
       "      <th>CleanedText</th>\n",
       "    </tr>\n",
       "  </thead>\n",
       "  <tbody>\n",
       "    <tr>\n",
       "      <th>0</th>\n",
       "      <td>5 How far is it from Denver to Aspen ?</td>\n",
       "      <td>0</td>\n",
       "      <td>How did serfdom develop in and then leave Russ...</td>\n",
       "      <td>serfdom develop leave russia</td>\n",
       "    </tr>\n",
       "    <tr>\n",
       "      <th>1</th>\n",
       "      <td>4 What county is Modesto</td>\n",
       "      <td>1</td>\n",
       "      <td>What films featured the character Popeye Doyle ?</td>\n",
       "      <td>films featured character popeye doyle</td>\n",
       "    </tr>\n",
       "    <tr>\n",
       "      <th>2</th>\n",
       "      <td>3 Who was Galileo ?</td>\n",
       "      <td>0</td>\n",
       "      <td>How can I find a list of celebrities ' real na...</td>\n",
       "      <td>find list celebrities real names</td>\n",
       "    </tr>\n",
       "    <tr>\n",
       "      <th>3</th>\n",
       "      <td>0 What is an atom ?</td>\n",
       "      <td>1</td>\n",
       "      <td>What fowl grabs the spotlight after the Chines...</td>\n",
       "      <td>fowl grabs spotlight chinese year monkey</td>\n",
       "    </tr>\n",
       "    <tr>\n",
       "      <th>4</th>\n",
       "      <td>5 When did Hawaii become a state ?</td>\n",
       "      <td>2</td>\n",
       "      <td>What is the full form of .com ?</td>\n",
       "      <td>full form com</td>\n",
       "    </tr>\n",
       "    <tr>\n",
       "      <th>...</th>\n",
       "      <td>...</td>\n",
       "      <td>...</td>\n",
       "      <td>...</td>\n",
       "      <td>...</td>\n",
       "    </tr>\n",
       "    <tr>\n",
       "      <th>495</th>\n",
       "      <td>3 Who was the 22nd President of the US ?</td>\n",
       "      <td>1</td>\n",
       "      <td>What is the Jewish bible called ?</td>\n",
       "      <td>jewish bible called</td>\n",
       "    </tr>\n",
       "    <tr>\n",
       "      <th>496</th>\n",
       "      <td>1 What is the money they use in Zambia ?</td>\n",
       "      <td>0</td>\n",
       "      <td>Why is the grass green ?</td>\n",
       "      <td>grass green</td>\n",
       "    </tr>\n",
       "    <tr>\n",
       "      <th>497</th>\n",
       "      <td>5 How many feet in a mile ?</td>\n",
       "      <td>0</td>\n",
       "      <td>What is a firewall ?</td>\n",
       "      <td>firewall</td>\n",
       "    </tr>\n",
       "    <tr>\n",
       "      <th>498</th>\n",
       "      <td>1 What is the birthstone of October ?</td>\n",
       "      <td>3</td>\n",
       "      <td>What spy novelist served as Moscow corresponde...</td>\n",
       "      <td>spy novelist served moscow correspondent reute...</td>\n",
       "    </tr>\n",
       "    <tr>\n",
       "      <th>499</th>\n",
       "      <td>0 What is e-coli ?</td>\n",
       "      <td>3</td>\n",
       "      <td>Which oil company almost picked a word that me...</td>\n",
       "      <td>oil company almost picked word meant stalled c...</td>\n",
       "    </tr>\n",
       "  </tbody>\n",
       "</table>\n",
       "<p>500 rows × 4 columns</p>\n",
       "</div>"
      ],
      "text/plain": [
       "                                         code label  \\\n",
       "0      5 How far is it from Denver to Aspen ?     0   \n",
       "1                   4 What county is Modesto      1   \n",
       "2                         3 Who was Galileo ?     0   \n",
       "3                         0 What is an atom ?     1   \n",
       "4          5 When did Hawaii become a state ?     2   \n",
       "..                                        ...   ...   \n",
       "495  3 Who was the 22nd President of the US ?     1   \n",
       "496  1 What is the money they use in Zambia ?     0   \n",
       "497               5 How many feet in a mile ?     0   \n",
       "498     1 What is the birthstone of October ?     3   \n",
       "499                        0 What is e-coli ?     3   \n",
       "\n",
       "                                                  text  \\\n",
       "0    How did serfdom develop in and then leave Russ...   \n",
       "1     What films featured the character Popeye Doyle ?   \n",
       "2    How can I find a list of celebrities ' real na...   \n",
       "3    What fowl grabs the spotlight after the Chines...   \n",
       "4                      What is the full form of .com ?   \n",
       "..                                                 ...   \n",
       "495                  What is the Jewish bible called ?   \n",
       "496                           Why is the grass green ?   \n",
       "497                               What is a firewall ?   \n",
       "498  What spy novelist served as Moscow corresponde...   \n",
       "499  Which oil company almost picked a word that me...   \n",
       "\n",
       "                                           CleanedText  \n",
       "0                         serfdom develop leave russia  \n",
       "1                films featured character popeye doyle  \n",
       "2                     find list celebrities real names  \n",
       "3             fowl grabs spotlight chinese year monkey  \n",
       "4                                        full form com  \n",
       "..                                                 ...  \n",
       "495                                jewish bible called  \n",
       "496                                        grass green  \n",
       "497                                           firewall  \n",
       "498  spy novelist served moscow correspondent reute...  \n",
       "499  oil company almost picked word meant stalled c...  \n",
       "\n",
       "[500 rows x 4 columns]"
      ]
     },
     "execution_count": 17,
     "metadata": {},
     "output_type": "execute_result"
    }
   ],
   "source": [
    "df_test"
   ]
  },
  {
   "cell_type": "markdown",
   "metadata": {
    "colab_type": "text",
    "id": "ytBZVEs2CAaL"
   },
   "source": [
    "# [2] Featurization"
   ]
  },
  {
   "cell_type": "markdown",
   "metadata": {
    "colab_type": "text",
    "id": "XnzP-eZdCAaa"
   },
   "source": [
    "## [2.1] Word2Vec"
   ]
  },
  {
   "cell_type": "code",
   "execution_count": 18,
   "metadata": {
    "colab": {},
    "colab_type": "code",
    "id": "e-IuUZsTCAaa"
   },
   "outputs": [],
   "source": [
    "# Train your own Word2Vec model using your own text corpus\n",
    "i=0\n",
    "list_of_sentance=[]\n",
    "for sentance in df_train['CleanedText']:\n",
    "    list_of_sentance.append(sentance.split())"
   ]
  },
  {
   "cell_type": "code",
   "execution_count": 19,
   "metadata": {},
   "outputs": [],
   "source": [
    " w2v_model_m=Word2Vec(list_of_sentance,min_count=5,size=50, workers=4)"
   ]
  },
  {
   "cell_type": "code",
   "execution_count": 20,
   "metadata": {},
   "outputs": [],
   "source": [
    "## using pretrained model by google Goole "
   ]
  },
  {
   "cell_type": "code",
   "execution_count": 21,
   "metadata": {
    "scrolled": true
   },
   "outputs": [],
   "source": [
    "w2v_model_g=KeyedVectors.load_word2vec_format('GoogleNews-vectors-negative300.bin', binary=True)"
   ]
  },
  {
   "cell_type": "code",
   "execution_count": 22,
   "metadata": {
    "scrolled": true
   },
   "outputs": [
    {
     "data": {
      "text/plain": [
       "[('terrific', 0.7989331483840942),\n",
       " ('fantastic', 0.7935211658477783),\n",
       " ('tremendous', 0.7748856544494629),\n",
       " ('wonderful', 0.7647868394851685),\n",
       " ('good', 0.7291510105133057),\n",
       " ('incredible', 0.7032873630523682),\n",
       " ('marvelous', 0.6971102952957153),\n",
       " ('phenomenal', 0.6841565370559692),\n",
       " ('amazing', 0.6634128093719482),\n",
       " ('awesome', 0.6510506868362427)]"
      ]
     },
     "execution_count": 22,
     "metadata": {},
     "output_type": "execute_result"
    }
   ],
   "source": [
    "w2v_model_g.wv.most_similar('great')"
   ]
  },
  {
   "cell_type": "code",
   "execution_count": 23,
   "metadata": {
    "scrolled": true
   },
   "outputs": [
    {
     "data": {
      "text/plain": [
       "[('war', 0.7506715059280396),\n",
       " ('state', 0.740448534488678),\n",
       " ('first', 0.7369781732559204),\n",
       " ('many', 0.7337493896484375),\n",
       " ('one', 0.726367175579071),\n",
       " ('called', 0.7181605100631714),\n",
       " ('get', 0.7125192880630493),\n",
       " ('star', 0.7124421000480652),\n",
       " ('number', 0.6974789500236511),\n",
       " ('city', 0.6896657347679138)]"
      ]
     },
     "execution_count": 23,
     "metadata": {},
     "output_type": "execute_result"
    }
   ],
   "source": [
    "w2v_model_m.wv.most_similar('great')"
   ]
  },
  {
   "cell_type": "code",
   "execution_count": 84,
   "metadata": {
    "scrolled": true
   },
   "outputs": [
    {
     "data": {
      "text/plain": [
       "[('Worst', 0.6146092414855957),\n",
       " ('weakest', 0.6143776774406433),\n",
       " ('scariest', 0.5957258343696594),\n",
       " ('ugliest', 0.5931180715560913),\n",
       " ('best', 0.5835110545158386),\n",
       " ('bleakest', 0.5718506574630737),\n",
       " ('strongest', 0.567145586013794),\n",
       " ('nastiest', 0.5644308924674988),\n",
       " ('lousiest', 0.5631451606750488),\n",
       " ('toughest', 0.5624395608901978)]"
      ]
     },
     "execution_count": 84,
     "metadata": {},
     "output_type": "execute_result"
    }
   ],
   "source": [
    "w2v_model_g.wv.most_similar('worst')"
   ]
  },
  {
   "cell_type": "code",
   "execution_count": 85,
   "metadata": {
    "scrolled": true
   },
   "outputs": [
    {
     "data": {
      "text/plain": [
       "[('computers', 0.7979379892349243),\n",
       " ('laptop', 0.6640493273735046),\n",
       " ('laptop_computer', 0.6548868417739868),\n",
       " ('Computer', 0.6473334431648254),\n",
       " ('com_puter', 0.6082079410552979),\n",
       " ('technician_Leonard_Luchko', 0.5662748217582703),\n",
       " ('mainframes_minicomputers', 0.5617721080780029),\n",
       " ('laptop_computers', 0.5585449934005737),\n",
       " ('PC', 0.5539618134498596),\n",
       " ('maker_Dell_DELL.O', 0.5519254207611084)]"
      ]
     },
     "execution_count": 85,
     "metadata": {},
     "output_type": "execute_result"
    }
   ],
   "source": [
    "w2v_model_g.wv.most_similar('computer')"
   ]
  },
  {
   "cell_type": "code",
   "execution_count": 86,
   "metadata": {
    "scrolled": false
   },
   "outputs": [
    {
     "data": {
      "text/plain": [
       "[('dog', 0.5886861681938171),\n",
       " ('book', 0.5830365419387817),\n",
       " ('baseball', 0.5582056045532227),\n",
       " ('game', 0.5533534288406372),\n",
       " ('features', 0.5524148941040039),\n",
       " ('actor', 0.5507881045341492),\n",
       " ('singer', 0.5445547103881836),\n",
       " ('u', 0.5430641174316406),\n",
       " ('famous', 0.542276918888092),\n",
       " ('capital', 0.5409361124038696)]"
      ]
     },
     "execution_count": 86,
     "metadata": {},
     "output_type": "execute_result"
    }
   ],
   "source": [
    "w2v_model_m.wv.most_similar('computer')"
   ]
  },
  {
   "cell_type": "code",
   "execution_count": 87,
   "metadata": {
    "scrolled": true
   },
   "outputs": [
    {
     "data": {
      "text/plain": [
       "[('com', 0.7014347314834595),\n",
       " ('city', 0.6735042929649353),\n",
       " ('play', 0.6662961840629578),\n",
       " ('tv', 0.6653598546981812),\n",
       " ('much', 0.6550982594490051),\n",
       " ('name', 0.6521872878074646),\n",
       " ('known', 0.6435665488243103),\n",
       " ('many', 0.6424198150634766),\n",
       " ('book', 0.6399986147880554),\n",
       " ('new', 0.6375181674957275)]"
      ]
     },
     "execution_count": 87,
     "metadata": {},
     "output_type": "execute_result"
    }
   ],
   "source": [
    "w2v_model_m.wv.most_similar('great')"
   ]
  },
  {
   "cell_type": "code",
   "execution_count": 24,
   "metadata": {},
   "outputs": [],
   "source": [
    "w2v_model=w2v_model_g"
   ]
  },
  {
   "cell_type": "code",
   "execution_count": 25,
   "metadata": {
    "colab": {},
    "colab_type": "code",
    "id": "JEJGArtUCAae",
    "outputId": "943e0fc6-83f8-455b-ba53-8dd05428fc92"
   },
   "outputs": [
    {
     "name": "stdout",
     "output_type": "stream",
     "text": [
      "number of words that occured minimum 5 times  3000000\n"
     ]
    }
   ],
   "source": [
    "w2v_words = list(w2v_model.wv.vocab)\n",
    "print(\"number of words that occured minimum 5 times \",len(w2v_words))\n",
    "#"
   ]
  },
  {
   "cell_type": "code",
   "execution_count": 29,
   "metadata": {},
   "outputs": [
    {
     "data": {
      "text/html": [
       "<div>\n",
       "<style scoped>\n",
       "    .dataframe tbody tr th:only-of-type {\n",
       "        vertical-align: middle;\n",
       "    }\n",
       "\n",
       "    .dataframe tbody tr th {\n",
       "        vertical-align: top;\n",
       "    }\n",
       "\n",
       "    .dataframe thead th {\n",
       "        text-align: right;\n",
       "    }\n",
       "</style>\n",
       "<table border=\"1\" class=\"dataframe\">\n",
       "  <thead>\n",
       "    <tr style=\"text-align: right;\">\n",
       "      <th></th>\n",
       "      <th>code</th>\n",
       "      <th>label</th>\n",
       "      <th>text</th>\n",
       "      <th>CleanedText</th>\n",
       "    </tr>\n",
       "  </thead>\n",
       "  <tbody>\n",
       "    <tr>\n",
       "      <th>0</th>\n",
       "      <td>0 How did serfdom develop in and then leave Ru...</td>\n",
       "      <td>0</td>\n",
       "      <td>How did serfdom develop in and then leave Russ...</td>\n",
       "      <td>serfdom develop leave russia</td>\n",
       "    </tr>\n",
       "    <tr>\n",
       "      <th>1</th>\n",
       "      <td>1 What films featured the character Popeye Doy...</td>\n",
       "      <td>1</td>\n",
       "      <td>What films featured the character Popeye Doyle ?</td>\n",
       "      <td>films featured character popeye doyle</td>\n",
       "    </tr>\n",
       "    <tr>\n",
       "      <th>2</th>\n",
       "      <td>0 How can I find a list of celebrities ' real ...</td>\n",
       "      <td>0</td>\n",
       "      <td>How can I find a list of celebrities ' real na...</td>\n",
       "      <td>find list celebrities real names</td>\n",
       "    </tr>\n",
       "    <tr>\n",
       "      <th>3</th>\n",
       "      <td>1 What fowl grabs the spotlight after the Chin...</td>\n",
       "      <td>1</td>\n",
       "      <td>What fowl grabs the spotlight after the Chines...</td>\n",
       "      <td>fowl grabs spotlight chinese year monkey</td>\n",
       "    </tr>\n",
       "    <tr>\n",
       "      <th>4</th>\n",
       "      <td>2 What is the full form of .com ?</td>\n",
       "      <td>2</td>\n",
       "      <td>What is the full form of .com ?</td>\n",
       "      <td>full form com</td>\n",
       "    </tr>\n",
       "    <tr>\n",
       "      <th>...</th>\n",
       "      <td>...</td>\n",
       "      <td>...</td>\n",
       "      <td>...</td>\n",
       "      <td>...</td>\n",
       "    </tr>\n",
       "    <tr>\n",
       "      <th>5447</th>\n",
       "      <td>1 What 's the shape of a camel 's spine ?</td>\n",
       "      <td>1</td>\n",
       "      <td>What 's the shape of a camel 's spine ?</td>\n",
       "      <td>shape camel spine</td>\n",
       "    </tr>\n",
       "    <tr>\n",
       "      <th>5448</th>\n",
       "      <td>1 What type of currency is used in China ?</td>\n",
       "      <td>1</td>\n",
       "      <td>What type of currency is used in China ?</td>\n",
       "      <td>type currency used china</td>\n",
       "    </tr>\n",
       "    <tr>\n",
       "      <th>5449</th>\n",
       "      <td>5 What is the temperature today ?</td>\n",
       "      <td>5</td>\n",
       "      <td>What is the temperature today ?</td>\n",
       "      <td>temperature today</td>\n",
       "    </tr>\n",
       "    <tr>\n",
       "      <th>5450</th>\n",
       "      <td>5 What is the temperature for cooking ?</td>\n",
       "      <td>5</td>\n",
       "      <td>What is the temperature for cooking ?</td>\n",
       "      <td>temperature cooking</td>\n",
       "    </tr>\n",
       "    <tr>\n",
       "      <th>5451</th>\n",
       "      <td>1 What currency is used in Australia ?</td>\n",
       "      <td>1</td>\n",
       "      <td>What currency is used in Australia ?</td>\n",
       "      <td>currency used australia</td>\n",
       "    </tr>\n",
       "  </tbody>\n",
       "</table>\n",
       "<p>5452 rows × 4 columns</p>\n",
       "</div>"
      ],
      "text/plain": [
       "                                                   code label  \\\n",
       "0     0 How did serfdom develop in and then leave Ru...     0   \n",
       "1     1 What films featured the character Popeye Doy...     1   \n",
       "2     0 How can I find a list of celebrities ' real ...     0   \n",
       "3     1 What fowl grabs the spotlight after the Chin...     1   \n",
       "4                     2 What is the full form of .com ?     2   \n",
       "...                                                 ...   ...   \n",
       "5447          1 What 's the shape of a camel 's spine ?     1   \n",
       "5448         1 What type of currency is used in China ?     1   \n",
       "5449                  5 What is the temperature today ?     5   \n",
       "5450            5 What is the temperature for cooking ?     5   \n",
       "5451             1 What currency is used in Australia ?     1   \n",
       "\n",
       "                                                   text  \\\n",
       "0     How did serfdom develop in and then leave Russ...   \n",
       "1      What films featured the character Popeye Doyle ?   \n",
       "2     How can I find a list of celebrities ' real na...   \n",
       "3     What fowl grabs the spotlight after the Chines...   \n",
       "4                       What is the full form of .com ?   \n",
       "...                                                 ...   \n",
       "5447            What 's the shape of a camel 's spine ?   \n",
       "5448           What type of currency is used in China ?   \n",
       "5449                    What is the temperature today ?   \n",
       "5450              What is the temperature for cooking ?   \n",
       "5451               What currency is used in Australia ?   \n",
       "\n",
       "                                   CleanedText  \n",
       "0                 serfdom develop leave russia  \n",
       "1        films featured character popeye doyle  \n",
       "2             find list celebrities real names  \n",
       "3     fowl grabs spotlight chinese year monkey  \n",
       "4                                full form com  \n",
       "...                                        ...  \n",
       "5447                         shape camel spine  \n",
       "5448                  type currency used china  \n",
       "5449                         temperature today  \n",
       "5450                       temperature cooking  \n",
       "5451                   currency used australia  \n",
       "\n",
       "[5452 rows x 4 columns]"
      ]
     },
     "execution_count": 29,
     "metadata": {},
     "output_type": "execute_result"
    }
   ],
   "source": [
    "df_train"
   ]
  },
  {
   "cell_type": "markdown",
   "metadata": {
    "colab_type": "text",
    "id": "EPjGCg7UCAag"
   },
   "source": [
    "## [2.1.1] Converting text into vectors using wAvg W2V, TFIDF-W2V"
   ]
  },
  {
   "cell_type": "markdown",
   "metadata": {
    "colab_type": "text",
    "id": "oPxfYXhMCAag"
   },
   "source": [
    "### [2.1.1.1] Avg W2v"
   ]
  },
  {
   "cell_type": "code",
   "execution_count": 26,
   "metadata": {},
   "outputs": [],
   "source": [
    "\n",
    "def avgw2vvectors(list_of_sent):\n",
    "    sent_vectors = []; # the avg-w2v for each sentence/review is stored in this list\n",
    "    for sent in tqdm(list_of_sent): # for each review/sentence\n",
    "        sent_vec = np.zeros(300) # as word vectors are of zero length 200, you might need to change this to 300 if you use google's w2v\n",
    "        cnt_words = 0; # num of words with a valid vector in the sentence/review\n",
    "        for word in sent: # for each word in a review/sentence\n",
    "            if word in w2v_words:\n",
    "                vec = w2v_model.wv[word]\n",
    "                sent_vec += vec\n",
    "                cnt_words += 1\n",
    "        if cnt_words != 0:\n",
    "            sent_vec /= cnt_words\n",
    "        sent_vectors.append(sent_vec)\n",
    "    print(len(sent_vectors))\n",
    "    print(len(sent_vectors[0]))\n",
    "    return sent_vectors"
   ]
  },
  {
   "cell_type": "code",
   "execution_count": 27,
   "metadata": {
    "scrolled": true
   },
   "outputs": [],
   "source": [
    "i=0\n",
    "list_of_sentance_train=[]\n",
    "for sentance in df_train['CleanedText']:\n",
    "    list_of_sentance_train.append(sentance.split())"
   ]
  },
  {
   "cell_type": "code",
   "execution_count": 28,
   "metadata": {},
   "outputs": [],
   "source": [
    "i=0\n",
    "list_of_sentance_test=[]\n",
    "for sentance in df_test['CleanedText']:\n",
    "    list_of_sentance_test.append(sentance.split())"
   ]
  },
  {
   "cell_type": "code",
   "execution_count": 30,
   "metadata": {
    "scrolled": false
   },
   "outputs": [
    {
     "name": "stderr",
     "output_type": "stream",
     "text": [
      "100%|██████████████████████████████████████████████████████████████████████████████| 5452/5452 [01:28<00:00, 61.29it/s]"
     ]
    },
    {
     "name": "stdout",
     "output_type": "stream",
     "text": [
      "5452\n",
      "300\n"
     ]
    },
    {
     "name": "stderr",
     "output_type": "stream",
     "text": [
      "\n"
     ]
    }
   ],
   "source": [
    "train_avgw2v=avgw2vvectors(list_of_sentance_train)\n"
   ]
  },
  {
   "cell_type": "code",
   "execution_count": 31,
   "metadata": {},
   "outputs": [],
   "source": [
    "np.save('X_train_TREC_google_w2v.npy', train_avgw2v)"
   ]
  },
  {
   "cell_type": "code",
   "execution_count": 32,
   "metadata": {},
   "outputs": [
    {
     "name": "stderr",
     "output_type": "stream",
     "text": [
      "100%|████████████████████████████████████████████████████████████████████████████████| 500/500 [00:07<00:00, 66.64it/s]"
     ]
    },
    {
     "name": "stdout",
     "output_type": "stream",
     "text": [
      "500\n",
      "300\n"
     ]
    },
    {
     "name": "stderr",
     "output_type": "stream",
     "text": [
      "\n"
     ]
    }
   ],
   "source": [
    "test_avgw2v=avgw2vvectors(list_of_sentance_test)"
   ]
  },
  {
   "cell_type": "code",
   "execution_count": 33,
   "metadata": {},
   "outputs": [],
   "source": [
    "np.save('X_test_TREC_google_w2v.npy', test_avgw2v)"
   ]
  },
  {
   "cell_type": "code",
   "execution_count": 34,
   "metadata": {},
   "outputs": [],
   "source": [
    "###manual word2 vec model\n",
    "X_train=train_avgw2v\n",
    "X_test=test_avgw2v\n",
    "y_train=df_train['label']\n",
    "y_test=df_test['label']"
   ]
  },
  {
   "cell_type": "code",
   "execution_count": 35,
   "metadata": {},
   "outputs": [],
   "source": [
    "np.save('y_test_TREC',y_test)\n",
    "np.save('y_train_TREC',y_train)"
   ]
  },
  {
   "cell_type": "markdown",
   "metadata": {},
   "source": [
    "## [3] TSNE Visualization"
   ]
  },
  {
   "cell_type": "code",
   "execution_count": 109,
   "metadata": {},
   "outputs": [],
   "source": [
    "from sklearn.manifold import TSNE\n",
    "\n",
    "# Picking the top 1000 points as TSNE takes a lot of time for 15K points\n",
    "data_1000 = X_train\n",
    "labels_1000 = y_train\n",
    "#data= \n",
    "#labels= label\n",
    "\n",
    "\n",
    "model = TSNE(n_components=2, random_state=0)\n",
    "# configuring the parameteres\n",
    "# the number of components = 2\n",
    "# default perplexity = 30\n",
    "# default learning rate = 200\n",
    "# default Maximum number of iterations for the optimization = 1000\n",
    "\n",
    "tsne_data = model.fit_transform(data_1000)\n",
    "\n",
    "\n",
    "# creating a new data frame which help us in ploting the result data\n",
    "tsne_data = np.vstack((tsne_data.T, labels_1000)).T\n",
    "tsne_df_bin = pd.DataFrame(data=tsne_data, columns=(\"Dim_1\", \"Dim_2\", \"label\"))"
   ]
  },
  {
   "cell_type": "code",
   "execution_count": 110,
   "metadata": {},
   "outputs": [
    {
     "data": {
      "image/png": "[encoded data removed]",
      "text/plain": [
       "<Figure size 474.375x432 with 1 Axes>"
      ]
     },
     "metadata": {
      "needs_background": "light"
     },
     "output_type": "display_data"
    }
   ],
   "source": [
    "import seaborn as sns\n",
    "sns.FacetGrid(tsne_df_bin, hue=\"label\", size=6).map(plt.scatter, 'Dim_1', 'Dim_2').add_legend()\n",
    "plt.show()"
   ]
  },
  {
   "cell_type": "code",
   "execution_count": 111,
   "metadata": {},
   "outputs": [],
   "source": [
    "from sklearn.manifold import TSNE\n",
    "\n",
    "# Picking the top 1000 points as TSNE takes a lot of time for 15K points\n",
    "data_1000 = X_train[1:1000]\n",
    "labels_1000 = y_train[1:1000]\n",
    "#data= \n",
    "#labels= label\n",
    "\n",
    "\n",
    "model = TSNE(n_components=2, random_state=0)\n",
    "# configuring the parameteres\n",
    "# the number of components = 2\n",
    "# default perplexity = 30\n",
    "# default learning rate = 200\n",
    "# default Maximum number of iterations for the optimization = 1000\n",
    "\n",
    "tsne_data = model.fit_transform(data_1000)\n",
    "\n",
    "\n",
    "# creating a new data frame which help us in ploting the result data\n",
    "tsne_data = np.vstack((tsne_data.T, labels_1000)).T\n",
    "tsne_df_bin = pd.DataFrame(data=tsne_data, columns=(\"Dim_1\", \"Dim_2\", \"label\"))"
   ]
  },
  {
   "cell_type": "code",
   "execution_count": 112,
   "metadata": {
    "scrolled": true
   },
   "outputs": [
    {
     "data": {
      "image/png": "[encoded data removed]",
      "text/plain": [
       "<Figure size 474.375x432 with 1 Axes>"
      ]
     },
     "metadata": {
      "needs_background": "light"
     },
     "output_type": "display_data"
    }
   ],
   "source": [
    "import seaborn as sns\n",
    "sns.FacetGrid(tsne_df_bin, hue=\"label\", size=6).map(plt.scatter, 'Dim_1', 'Dim_2').add_legend()\n",
    "plt.show()"
   ]
  }
 ],
 "metadata": {
  "colab": {
   "collapsed_sections": [],
   "name": "Amazon Fine Food Reviews Analysis.ipynb",
   "provenance": []
  },
  "hide_input": false,
  "kernelspec": {
   "display_name": "Python 3",
   "language": "python",
   "name": "python3"
  },
  "language_info": {
   "codemirror_mode": {
    "name": "ipython",
    "version": 3
   },
   "file_extension": ".py",
   "mimetype": "text/x-python",
   "name": "python",
   "nbconvert_exporter": "python",
   "pygments_lexer": "ipython3",
   "version": "3.7.3"
  }
 },
 "nbformat": 4,
 "nbformat_minor": 1
}
